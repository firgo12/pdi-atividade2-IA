{
 "cells": [
  {
   "cell_type": "code",
   "execution_count": 81,
   "metadata": {},
   "outputs": [],
   "source": [
    "import cv2\n",
    "import matplotlib.pyplot as plt\n",
    "import numpy as np"
   ]
  },
  {
   "cell_type": "code",
   "execution_count": 82,
   "metadata": {},
   "outputs": [],
   "source": [
    "## implementar a função que identifica a bandeira\n",
    "## a função deve receber uma imagem e retornar a bandeira identificada\n",
    "## a função deve retornar uma lista de tuplas, onde cada tupla contém as coordenadas de um dos cantos da bandeira\n",
    "## [(PAIS, (x1, y2), (x2, y2)`),(PAIS, (x1, y2), (x2, y2)`),(PAIS, (x1, y2), (x2, y2)`),...]\n",
    "\n",
    "def identifica_bandeira(img):\n",
    "    resultados = []\n",
    "    bandeiras_detectadas = set()  # Para rastrear bandeiras únicas já encontradas\n",
    "\n",
    "    if img is None:\n",
    "        print(\"Erro: Imagem não carregada.\")\n",
    "        return []\n",
    "\n",
    "    # Converter a imagem para HSV\n",
    "    hsv = cv2.cvtColor(img, cv2.COLOR_BGR2HSV)\n",
    "\n",
    "    # Intervalos HSV ajustados para cada bandeira\n",
    "    bandeiras = {\n",
    "        \"Monaco\": {\n",
    "            \"cores\": [\n",
    "                (np.array([0, 120, 70]), np.array([10, 255, 255])),  # Vermelho\n",
    "                (np.array([0, 0, 200]), np.array([180, 20, 255]))   # Branco\n",
    "            ],\n",
    "            \"orientacao\": \"horizontal\"\n",
    "        },\n",
    "        \"Peru\": {\n",
    "            \"cores\": [\n",
    "                (np.array([0, 120, 70]), np.array([10, 255, 255])),  # Vermelho\n",
    "                (np.array([0, 0, 200]), np.array([180, 20, 255]))   # Branco\n",
    "            ],\n",
    "            \"orientacao\": \"vertical\"\n",
    "        },\n",
    "        \"Singapura\": {\n",
    "            \"cores\": [\n",
    "                (np.array([0, 140, 70]), np.array([10, 255, 255])),  # Vermelho mais vibrante\n",
    "                (np.array([0, 0, 220]), np.array([180, 50, 255]))   # Branco intenso para lua e estrelas\n",
    "            ],\n",
    "            \"orientacao\": \"horizontal\"\n",
    "        },\n",
    "        \"Itália\": {\n",
    "            \"cores\": [\n",
    "                (np.array([35, 50, 50]), np.array([85, 255, 255])),  # Verde\n",
    "                (np.array([0, 0, 200]), np.array([180, 20, 255])),   # Branco\n",
    "                (np.array([0, 100, 100]), np.array([10, 255, 255]))  # Vermelho\n",
    "            ],\n",
    "            \"orientacao\": \"vertical\"\n",
    "        },\n",
    "        \"Irlanda\": {\n",
    "            \"cores\": [\n",
    "                (np.array([35, 50, 50]), np.array([85, 255, 255])),  # Verde\n",
    "                (np.array([0, 0, 200]), np.array([180, 20, 255])),   # Branco\n",
    "                (np.array([10, 100, 100]), np.array([25, 255, 255])) # Laranja\n",
    "            ],\n",
    "            \"orientacao\": \"vertical\"\n",
    "        }\n",
    "    }\n",
    "\n",
    "    for pais, config in bandeiras.items():\n",
    "        # Evitar processar bandeiras já detectadas\n",
    "        if pais in bandeiras_detectadas:\n",
    "            continue\n",
    "\n",
    "        mask_total = np.zeros(img.shape[:2], dtype=np.uint8)\n",
    "\n",
    "        for lower, upper in config[\"cores\"]:\n",
    "            mask = cv2.inRange(hsv, lower, upper)\n",
    "            mask_total = cv2.bitwise_or(mask_total, mask)\n",
    "\n",
    "        # Processamento para reduzir ruídos\n",
    "        kernel = np.ones((5, 5), np.uint8)\n",
    "        mask_total = cv2.morphologyEx(mask_total, cv2.MORPH_CLOSE, kernel)\n",
    "        mask_total = cv2.morphologyEx(mask_total, cv2.MORPH_OPEN, kernel)\n",
    "\n",
    "        # Encontrar contornos na máscara\n",
    "        contornos, _ = cv2.findContours(mask_total, cv2.RETR_EXTERNAL, cv2.CHAIN_APPROX_SIMPLE)\n",
    "\n",
    "        for cnt in contornos:\n",
    "            x, y, w, h = cv2.boundingRect(cnt)\n",
    "            proporcao = w / h\n",
    "            orientacao = \"horizontal\" if proporcao > 1 else \"vertical\"\n",
    "\n",
    "            # Filtrar contornos baseados em proporção e orientação\n",
    "            if w > 30 and h > 20 and config[\"orientacao\"] == orientacao:\n",
    "                ja_detectada = any(\n",
    "                    abs(resultado[1][0] - x) < 50 and abs(resultado[1][1] - y) < 50\n",
    "                    for resultado in resultados\n",
    "                )\n",
    "                if not ja_detectada:\n",
    "                    resultados.append((pais, (x, y), (x + w, y + h)))\n",
    "                    bandeiras_detectadas.add(pais)  # Adicionar bandeira ao conjunto de detectadas\n",
    "\n",
    "                    # Desenhar retângulo ao redor da bandeira\n",
    "                    cv2.rectangle(img, (x, y), (x + w, y + h), (255, 0, 0), 2)\n",
    "                    # Nome do país no retângulo\n",
    "                    cv2.putText(img, pais, (x, y - 10), cv2.FONT_HERSHEY_SIMPLEX, 0.5, (255, 0, 0), 2)\n",
    "\n",
    "                    # Parar processamento se já tivermos 3 bandeiras detectadas\n",
    "                    if len(bandeiras_detectadas) >= 3:\n",
    "                        return resultados\n",
    "\n",
    "    # Verificar se nenhuma bandeira foi detectada\n",
    "    if not resultados:\n",
    "        print(\"Nenhuma bandeira detectada. Verifique os valores HSV e a imagem de entrada.\")\n",
    "\n",
    "    return resultados\n",
    "\n",
    "\n"
   ]
  },
  {
   "cell_type": "code",
   "execution_count": null,
   "metadata": {},
   "outputs": [],
   "source": []
  },
  {
   "cell_type": "code",
   "execution_count": null,
   "metadata": {},
   "outputs": [],
   "source": []
  },
  {
   "cell_type": "code",
   "execution_count": 83,
   "metadata": {},
   "outputs": [],
   "source": [
    "## nao alterar essa função\n",
    "# Função para desenhar as bandeiras identificadas\n",
    "def draw_bandeiras(lista_bandeiras, bgr):\n",
    "    try:\n",
    "        for bandeira in lista_bandeiras:\n",
    "            cv2.rectangle(bgr, bandeira[1], bandeira[2], (255, 0, 0), 5)\n",
    "            cv2.putText(bgr, bandeira[0], bandeira[1], cv2.FONT_HERSHEY_SIMPLEX, 1, (255, 0, 0), 2, cv2.LINE_AA)\n",
    "        return bgr\n",
    "    except Exception as e:\n",
    "        return bgr"
   ]
  },
  {
   "cell_type": "code",
   "execution_count": 84,
   "metadata": {},
   "outputs": [
    {
     "name": "stdout",
     "output_type": "stream",
     "text": [
      "[('Monaco', (193, 585), (456, 673)), ('Monaco', (726, 266), (984, 369)), ('Peru', (206, 121), (293, 295))]\n"
     ]
    },
    {
     "data": {
      "image/png": "[encoded data removed]",
      "text/plain": [
       "<Figure size 640x480 with 1 Axes>"
      ]
     },
     "metadata": {},
     "output_type": "display_data"
    }
   ],
   "source": [
    "## Para testar a função identifica_bandeira\n",
    "\n",
    "# Você pode testar a função identifica_bandeira com as imagens de teste fornecidas\n",
    "# \n",
    "img = cv2.imread('img/teste1.png')\n",
    "# img = cv2.imread('img/teste2.png')\n",
    "# img = cv2.imread('img/teste3.png')\n",
    "# img = cv2.imread('img/teste4.png')\n",
    "\n",
    "# Chamar a função identifica_bandeira\n",
    "resultado = identifica_bandeira(img)\n",
    "\n",
    "# Imprimir o resultado da função identifica_bandeira \n",
    "print(resultado)\n",
    "\n",
    "# Desenhar as bandeiras na imagem\n",
    "bgr = draw_bandeiras(resultado, img)\n",
    "plt.imshow(cv2.cvtColor(bgr, cv2.COLOR_BGR2RGB))\n",
    "plt.show()\n",
    "\n",
    "\n"
   ]
  },
  {
   "cell_type": "code",
   "execution_count": null,
   "metadata": {},
   "outputs": [],
   "source": []
  }
 ],
 "metadata": {
  "kernelspec": {
   "display_name": "Python 3",
   "language": "python",
   "name": "python3"
  },
  "language_info": {
   "codemirror_mode": {
    "name": "ipython",
    "version": 3
   },
   "file_extension": ".py",
   "mimetype": "text/x-python",
   "name": "python",
   "nbconvert_exporter": "python",
   "pygments_lexer": "ipython3",
   "version": "3.13.2"
  }
 },
 "nbformat": 4,
 "nbformat_minor": 2
}
